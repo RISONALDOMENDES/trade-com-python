{
 "cells": [
  {
   "cell_type": "markdown",
   "metadata": {},
   "source": [
    "### diferença entre trader quantitativo e trader comum"
   ]
  },
  {
   "cell_type": "code",
   "execution_count": 2,
   "metadata": {},
   "outputs": [],
   "source": [
    "import pandas as pd\n",
    "import numpy as np\n",
    "from datetime import datetime, timedelta\n",
    "import os"
   ]
  },
  {
   "cell_type": "markdown",
   "metadata": {},
   "source": [
    "arquivo do metatrade ( faltando)"
   ]
  },
  {
   "cell_type": "code",
   "execution_count": null,
   "metadata": {},
   "outputs": [],
   "source": [
    "df_data = pd.read_csv('')\n",
    "\n",
    "df_data"
   ]
  },
  {
   "cell_type": "code",
   "execution_count": 10,
   "metadata": {},
   "outputs": [],
   "source": [
    "import plotly.graph_objects as go\n",
    "from plotly.subplots import make_subplots\n",
    "import plotly.express as px"
   ]
  },
  {
   "cell_type": "code",
   "execution_count": 11,
   "metadata": {},
   "outputs": [
    {
     "ename": "NameError",
     "evalue": "name 'df_data' is not defined",
     "output_type": "error",
     "traceback": [
      "\u001b[1;31m---------------------------------------------------------------------------\u001b[0m",
      "\u001b[1;31mNameError\u001b[0m                                 Traceback (most recent call last)",
      "Cell \u001b[1;32mIn[11], line 1\u001b[0m\n\u001b[1;32m----> 1\u001b[0m df_cut \u001b[38;5;241m=\u001b[39m \u001b[43mdf_data\u001b[49m[df_data\u001b[38;5;241m.\u001b[39mindex\u001b[38;5;241m.\u001b[39mdate \u001b[38;5;241m==\u001b[39m datetime(\u001b[38;5;241m2024\u001b[39m, \u001b[38;5;241m1\u001b[39m, \u001b[38;5;241m1\u001b[39m)\u001b[38;5;241m.\u001b[39mdate()]\n\u001b[0;32m      2\u001b[0m df_cut\n",
      "\u001b[1;31mNameError\u001b[0m: name 'df_data' is not defined"
     ]
    }
   ],
   "source": [
    "df_cut = df_data[df_data.index.date == datetime(2024, 1, 1).date()]\n",
    "df_cut"
   ]
  },
  {
   "cell_type": "code",
   "execution_count": 13,
   "metadata": {},
   "outputs": [
    {
     "ename": "SyntaxError",
     "evalue": "invalid syntax. Maybe you meant '==' or ':=' instead of '='? (665630141.py, line 1)",
     "output_type": "error",
     "traceback": [
      "\u001b[1;36m  Cell \u001b[1;32mIn[13], line 1\u001b[1;36m\u001b[0m\n\u001b[1;33m    fig = make_subplots[rows=2, cols=1, shared_xaxes=True,\u001b[0m\n\u001b[1;37m                        ^\u001b[0m\n\u001b[1;31mSyntaxError\u001b[0m\u001b[1;31m:\u001b[0m invalid syntax. Maybe you meant '==' or ':=' instead of '='?\n"
     ]
    }
   ],
   "source": [
    "fig = make_subplots[rows=2, cols=1, shared_xaxes=True,\n",
    "                    vertical_spacing=0.05, subplot_titles=('OHLC', 'Volume'),\n",
    "                    row_width=[0.2, 8.7]]\n",
    "\n",
    "fig.add_trace(go.Candlestick(x=df_cut.index,\n",
    "                             open=df_cut['open'],\n",
    "                             high=df_cut['high'],\n",
    "                             low=df_cut['low'],\n",
    "                             close=df_cut['close'], row=1, col=1))\n",
    "\n",
    "fig.add_trace(go.Bar(x=df_cut.index, y=df_cut['real_volume'], showlegend=False), row=2, col=1)\n",
    "\n",
    "fig.update_layout(height=700, xaxis_rangeslider_visible=False, template='seaborn')\n",
    "fig.update_layout(margin=dict(l=30, r=30, t=30, b=30))\n",
    "fig.show()"
   ]
  },
  {
   "cell_type": "code",
   "execution_count": null,
   "metadata": {},
   "outputs": [],
   "source": [
    "df_data['candle_size'] = np.abs[df_data['close'] - df_data['open']]\n",
    "\n",
    "df_data"
   ]
  },
  {
   "cell_type": "code",
   "execution_count": null,
   "metadata": {},
   "outputs": [],
   "source": [
    "w1 = 200"
   ]
  },
  {
   "cell_type": "code",
   "execution_count": 14,
   "metadata": {},
   "outputs": [
    {
     "ename": "NameError",
     "evalue": "name 'df_data' is not defined",
     "output_type": "error",
     "traceback": [
      "\u001b[1;31m---------------------------------------------------------------------------\u001b[0m",
      "\u001b[1;31mNameError\u001b[0m                                 Traceback (most recent call last)",
      "Cell \u001b[1;32mIn[14], line 1\u001b[0m\n\u001b[1;32m----> 1\u001b[0m df_data[\u001b[38;5;124m'\u001b[39m\u001b[38;5;124mrol_size_quant\u001b[39m\u001b[38;5;124m'\u001b[39m] \u001b[38;5;241m=\u001b[39m \u001b[43mdf_data\u001b[49m[\u001b[38;5;124m'\u001b[39m\u001b[38;5;124mcandle_size\u001b[39m\u001b[38;5;124m'\u001b[39m]\u001b[38;5;241m.\u001b[39mrolling(w1)\u001b[38;5;241m.\u001b[39mquantile(\u001b[38;5;241m0.9\u001b[39m)\n\u001b[0;32m      3\u001b[0m df_data\u001b[38;5;241m.\u001b[39mtail(\u001b[38;5;241m20\u001b[39m)\n",
      "\u001b[1;31mNameError\u001b[0m: name 'df_data' is not defined"
     ]
    }
   ],
   "source": [
    "df_data['rol_size_quant'] = df_data['candle_size'].rolling(w1).quantile(0.9)\n",
    "df_data['rol_volume_quant'] = df_data['real_volume'].rolling(w1).quantile(0.9)\n",
    "df_data['sign'] = df_data['close'] - df_data['open']\n",
    "\n",
    "df_data.tail(20)"
   ]
  },
  {
   "cell_type": "markdown",
   "metadata": {},
   "source": [
    "definir as condições "
   ]
  },
  {
   "cell_type": "code",
   "execution_count": null,
   "metadata": {},
   "outputs": [],
   "source": [
    "cond1 = df_data['sign'] == -1\n",
    "cond2 = df_data['candle_size'] > df_data['rol_size_qunt']\n",
    "cond3 = df_data['real_volume'] > df_data['rol_volume_quant']"
   ]
  },
  {
   "cell_type": "markdown",
   "metadata": {},
   "source": [
    "verificar as condiçoes"
   ]
  },
  {
   "cell_type": "code",
   "execution_count": null,
   "metadata": {},
   "outputs": [],
   "source": [
    "df_data[cond1 & cond2 & cond3]"
   ]
  },
  {
   "cell_type": "markdown",
   "metadata": {},
   "source": [
    "visualização grafica "
   ]
  },
  {
   "cell_type": "code",
   "execution_count": null,
   "metadata": {},
   "outputs": [],
   "source": [
    "n = 2\n",
    "dt = df_data[cond1 & cond2 & cond3].iloc[n]\n",
    "print(dt.index)\n",
    "\n",
    "df_cut = df_data[df_data.index.date == dt.name.date()]  \n",
    "fig = make_subplots(rows=2, cols=1, shared_xaxes=True, specs=[[{\"secondary_y\": True}], [{\"secondary_y\": True}]],\n",
    "                    vertical_spacing=0.05, subplot_titles=('OLHC', 'Volume'),\n",
    "                    row_width=[0.2, 0.8])\n",
    "\n",
    "fig.add_trace(go.Candlestick(x=df_cut.index,\n",
    "                             open=df_cut['open'],\n",
    "                             high=df_cut['high'],\n",
    "                             low=df_cut['low'],\n",
    "                             close=df_cut['close']), row=1, col=1)\n",
    "\n",
    "fig.add_trace(go.Scatter(x=[dt.name, ], y=[dt['close'] + 100], marker_size=5, marker_color='black'), row=1, col=1)\n",
    "#fig.add_tarce(go.Scatter(x=df_cute.index, y=df_cut['stoch'], opacity=0.4), secondary_y=True, row=1, col=1)\n",
    "\n",
    "\n",
    "fig.add_trace(go.Bar(x=df_cut.index, y=df_cut['real_volume']), row=2, col=1)\n",
    "fig.add_trace(go.Scatter(x=df_cut.index, y=df_cut['rol_vol_quant']), row=2, col=1)\n",
    "#fig.add_trace(go.Scatter(x=df_cut.index, y=df_cut['rol_vol_quant']), secondary]=True, row=2, col=1)\n",
    "\n",
    "\n",
    "fig.update_layout(height=700, xaxis_rangeslider_visible=Flase, template='seaborn')\n",
    "fig.u´date_layout(margin=dict(l=30, r=30, t=30, b=30))\n",
    "\n",
    "fig.show()\n",
    "\n",
    "      "
   ]
  },
  {
   "cell_type": "markdown",
   "metadata": {},
   "source": [
    "10 candles a frente"
   ]
  },
  {
   "cell_type": "code",
   "execution_count": null,
   "metadata": {},
   "outputs": [],
   "source": [
    "df_data[\"close_fut\"] = df_data[\"close\"].shift(-10) -df_data[\"close\"]\n",
    "\n"
   ]
  },
  {
   "cell_type": "code",
   "execution_count": null,
   "metadata": {},
   "outputs": [],
   "source": [
    "px.histogram(df_data[\"close_fut\"])"
   ]
  },
  {
   "cell_type": "code",
   "execution_count": null,
   "metadata": {},
   "outputs": [],
   "source": [
    "px.histogram(df_data[cond1 & cond2 & cond3][\"close_fut\"])\n"
   ]
  },
  {
   "cell_type": "code",
   "execution_count": null,
   "metadata": {},
   "outputs": [],
   "source": [
    "df_data[cond1 & cond2 & cond3][\"close_fut\"].mean()"
   ]
  },
  {
   "cell_type": "code",
   "execution_count": null,
   "metadata": {},
   "outputs": [],
   "source": [
    "df_data[cond1 & cond2 & cond3][\"close_fut\"].std()"
   ]
  }
 ],
 "metadata": {
  "kernelspec": {
   "display_name": "Python 3",
   "language": "python",
   "name": "python3"
  },
  "language_info": {
   "codemirror_mode": {
    "name": "ipython",
    "version": 3
   },
   "file_extension": ".py",
   "mimetype": "text/x-python",
   "name": "python",
   "nbconvert_exporter": "python",
   "pygments_lexer": "ipython3",
   "version": "3.12.1"
  }
 },
 "nbformat": 4,
 "nbformat_minor": 2
}
